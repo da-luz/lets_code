{
 "cells": [
  {
   "cell_type": "markdown",
   "id": "89771eb6-363d-461e-9797-b7174c4f70e6",
   "metadata": {
    "tags": []
   },
   "source": [
    "# ***Let's Code Python Basics***\n",
    "\n",
    "Notebook contendo as resoluções dos exercícios propostos pelo curso ***\"Python Basics\"*** ministrado pela ***Let's Code***  \n",
    "As atividades estão separadas em três modulos, cada atividade contará com um enunciado (e documentação, caso necessário)"
   ]
  },
  {
   "cell_type": "markdown",
   "id": "def6f647-bec6-4c11-af15-cd6c9485f598",
   "metadata": {
    "tags": []
   },
   "source": [
    "## ***MODULO I***"
   ]
  },
  {
   "cell_type": "markdown",
   "id": "78e5a9d8-64a4-4fa7-b7f5-11f90ed5ae73",
   "metadata": {},
   "source": [
    "1. Faça um programa que peça um valor monetário e diminua-o em 15%. Seu \n",
    "programa deve imprimir a mensagem “O novo valor é [valor]”."
   ]
  },
  {
   "cell_type": "code",
   "execution_count": 1,
   "id": "0d9d1812-1600-48ed-a9ca-df9347cb6a93",
   "metadata": {},
   "outputs": [
    {
     "name": "stdout",
     "output_type": "stream",
     "text": [
      "Para cálculo do desconto de 15% (quinze porcento), insira um valor sobre o qual incidirá o desconto  490.68\n"
     ]
    },
    {
     "name": "stdout",
     "output_type": "stream",
     "text": [
      "O novo valor, com desconto, é 417.08 unidades monetárias\n"
     ]
    }
   ],
   "source": [
    "valor = input('Para cálculo do desconto de 15% (quinze porcento), insira um valor sobre o qual incidirá o desconto ')\n",
    "while (type(valor)) != float:\n",
    "    try: valor = float(valor)\n",
    "    except: valor = input('O valor deve conter apenas números ou um único ponto decimal. Tente novamente ')\n",
    "valor_final = valor * (1 - 0.15)\n",
    "print(f'O novo valor, com desconto, é {valor_final:.2f} unidades monetárias')"
   ]
  },
  {
   "cell_type": "markdown",
   "id": "f7093cd1-ed31-49ef-9d26-f332a0ed9938",
   "metadata": {},
   "source": [
    "2. Faça um programa que leia a validade das informações:  \n",
    "> a. Idade: entre 0 e 150;  \n",
    "> b. Salário: maior que 0;  \n",
    "> c. Sexo: M, F ou Outro;  \n",
    "\n",
    "***O programa deve imprimir uma mensagem de erro para cada informação \n",
    "inválida.***"
   ]
  },
  {
   "cell_type": "code",
   "execution_count": 2,
   "id": "3400ff45-bc50-423e-a787-99a0ee470262",
   "metadata": {},
   "outputs": [
    {
     "name": "stdout",
     "output_type": "stream",
     "text": [
      "Qual a sua idade? : int in range(1, 150) 67\n",
      "Qual seu salário? : float > 0 10569.78\n",
      "Qual seu sexo? : str in ['m', 'f', 'o'] maiusculas ou minusculas m\n"
     ]
    },
    {
     "name": "stdout",
     "output_type": "stream",
     "text": [
      "Tudo certo com os valores informados!\n"
     ]
    }
   ],
   "source": [
    "idade = input('Qual a sua idade? : int in range(1, 150)')\n",
    "salario = input('Qual seu salário? : float > 0')\n",
    "sexo = input('Qual seu sexo? : str in [\\'m\\', \\'f\\', \\'o\\'] maiusculas ou minusculas')\n",
    "erros = {\n",
    "    0: ('Erro: Algum dos valores informados não obedece ao tipo pré-estabelecido'),\n",
    "    1: ('Valor de idade inválido: o valor deve ser um inteiro maior que zero e menor que 150'),\n",
    "    2: ('Valor de salário inválido: o valor deve ser maior que 0 e conter apenas um ponto decimal'),\n",
    "    3: ('Valor de sexo inválido: o valor deve ser a inicial de um dos gêneros: Masculino, Feminino ou Outro')\n",
    "}\n",
    "try:\n",
    "    if not((int(idade) > 0) and (int(idade) < 150)): erros[1]\n",
    "    if not(float(salario) > 0): erros[2]\n",
    "    if not(any([sexo.strip().upper() == y for y in ['M', 'F', 'O']])): erros[3]\n",
    "    else: print('Tudo certo com os valores informados!')\n",
    "except: print(erros[0])"
   ]
  },
  {
   "cell_type": "markdown",
   "id": "09ecd27e-6cbb-47d7-ad48-28efbbd29f7c",
   "metadata": {},
   "source": [
    "3. Vamos fazer um programa para verificar quem é o assassino de um crime. \n",
    "Para descobrir o assassino, a polícia faz um pequeno questionário com 5 \n",
    "perguntas onde a resposta só pode ser sim ou não:  \n",
    "> a. Mora perto da vítima?  \n",
    "> b. Já trabalhou com a vítima?  \n",
    "> c. Telefonou para a vítima?  \n",
    "> d. Esteve no local do crime?  \n",
    "> e. Devia para a vítima?  \n",
    "\n",
    "Cada resposta sim dá um ponto para o suspeito. A polícia considera que os \n",
    "suspeitos com 5 pontos são os assassinos, com 4 a 3 pontos são cúmplices e \n",
    "2 pontos são apenas suspeitos, necessitando outras investigações. Valores \n",
    "iguais ou abaixo de 1 são liberados."
   ]
  },
  {
   "cell_type": "code",
   "execution_count": 3,
   "id": "3e5996fb-3447-4115-8803-e0817118f86a",
   "metadata": {},
   "outputs": [
    {
     "name": "stdout",
     "output_type": "stream",
     "text": [
      "Mora perto da vítima?  sim\n",
      "Já trabalhou com a vítima?  sim\n",
      "Telefonou para a vítima?  sim, claro\n",
      "Esteve no local do crime? sim\n",
      "Devia para a vítima?  sim, mas não por falta de vontade\n"
     ]
    },
    {
     "name": "stdout",
     "output_type": "stream",
     "text": [
      "O suspeito é culpado!\n"
     ]
    }
   ],
   "source": [
    "perguntas = [input('Mora perto da vítima? '),\n",
    "             input('Já trabalhou com a vítima? '),\n",
    "             input('Telefonou para a vítima? '),\n",
    "             input('Esteve no local do crime?' ),\n",
    "             input('Devia para a vítima? ')]\n",
    "respostas = [resp.strip()[0:3].upper() == 'SIM' for resp in perguntas]\n",
    "if all(respostas): print('O suspeito é culpado!')\n",
    "elif respostas.count(True) > 2: print('O suspeito é cúmplice!')\n",
    "elif respostas.count(True) == 2: print('Necessárias maiores investigações!')\n",
    "else: print('O suspeito é inocente, libere-o!')"
   ]
  },
  {
   "cell_type": "markdown",
   "id": "3de8b0f9-2aa8-434b-b2bd-87e9b04fbbf5",
   "metadata": {},
   "source": [
    "4. Faça um programa que imprima a tabuada do 9 (de 9\\*1 a 9\\*10) usando loops."
   ]
  },
  {
   "cell_type": "code",
   "execution_count": 4,
   "id": "54df5dc5-2517-42d1-aea8-b055a2f11bf9",
   "metadata": {},
   "outputs": [
    {
     "name": "stdout",
     "output_type": "stream",
     "text": [
      "1 multiplicado por 9 é igual a 9\n",
      "2 multiplicado por 9 é igual a 18\n",
      "3 multiplicado por 9 é igual a 27\n",
      "4 multiplicado por 9 é igual a 36\n",
      "5 multiplicado por 9 é igual a 45\n",
      "6 multiplicado por 9 é igual a 54\n",
      "7 multiplicado por 9 é igual a 63\n",
      "8 multiplicado por 9 é igual a 72\n",
      "9 multiplicado por 9 é igual a 81\n",
      "10 multiplicado por 9 é igual a 90\n"
     ]
    }
   ],
   "source": [
    "for n in range(1, 11):\n",
    "    print(f'{n} multiplicado por 9 é igual a {n * 9}')"
   ]
  },
  {
   "cell_type": "markdown",
   "id": "b412d103-2c6b-4001-8a94-87e4919ae53b",
   "metadata": {
    "tags": []
   },
   "source": [
    "## ***MODULO II***"
   ]
  },
  {
   "cell_type": "markdown",
   "id": "65ef408b-6c20-4aa7-be8d-c5d2b078334a",
   "metadata": {},
   "source": [
    "1. Faça um programa que olhe todos os itens de uma lista e diga quantos deles \n",
    "são pares."
   ]
  },
  {
   "cell_type": "code",
   "execution_count": 5,
   "id": "d3d5a4c9-be20-47af-9616-66b54c5b8700",
   "metadata": {},
   "outputs": [
    {
     "name": "stdout",
     "output_type": "stream",
     "text": [
      "Existem 0 números pares nessa lista\n"
     ]
    }
   ],
   "source": [
    "lista = list(range(1, 100 + 1, 2)) #lista meramente ilustrativa\n",
    "\n",
    "# Se a lista é composta por range(1, int(n), 2) ela é necessáriamente uma lista de números ímpares\n",
    "\n",
    "pares = [x % 2 == 0 for x in lista]\n",
    "print(f'Existem {pares.count(True)} números pares nessa lista')"
   ]
  },
  {
   "cell_type": "markdown",
   "id": "4bd69c9a-56c7-4205-a6de-0c2a89a07727",
   "metadata": {},
   "source": [
    "2. Faça um programa que peça para o usuário digitar uma palavra e imprima \n",
    "cada letra em uma linha."
   ]
  },
  {
   "cell_type": "code",
   "execution_count": 6,
   "id": "86f7018e-564d-4e2e-9b69-9ca34300055e",
   "metadata": {},
   "outputs": [
    {
     "name": "stdout",
     "output_type": "stream",
     "text": [
      "Digite uma palavra qualquer:  consternado\n"
     ]
    },
    {
     "name": "stdout",
     "output_type": "stream",
     "text": [
      "c\n",
      "o\n",
      "n\n",
      "s\n",
      "t\n",
      "e\n",
      "r\n",
      "n\n",
      "a\n",
      "d\n",
      "o\n"
     ]
    }
   ],
   "source": [
    "palavra = input('Digite uma palavra qualquer: ')\n",
    "for l in palavra: print(l)"
   ]
  },
  {
   "cell_type": "markdown",
   "id": "0723e90b-2727-4a2d-839b-d80053644bbb",
   "metadata": {},
   "source": [
    "3. Faça uma função que recebe duas listas e retorna a soma item a item dessas \n",
    "listas.  \n",
    "Exemplo: Se a função receber as listas [1,4,3] e [3,5,1], então a função deve \n",
    "retornar [1+3, 4+5, 3+1] = [4, 9, 4]."
   ]
  },
  {
   "cell_type": "code",
   "execution_count": 7,
   "id": "189f2ea5-7bb7-4c87-898e-c3bfc61d82d4",
   "metadata": {},
   "outputs": [
    {
     "data": {
      "text/plain": [
       "[1,\n",
       " 5,\n",
       " 9,\n",
       " 13,\n",
       " 17,\n",
       " 21,\n",
       " 25,\n",
       " 29,\n",
       " 33,\n",
       " 37,\n",
       " 41,\n",
       " 45,\n",
       " 49,\n",
       " 53,\n",
       " 57,\n",
       " 61,\n",
       " 65,\n",
       " 69,\n",
       " 73,\n",
       " 77,\n",
       " 81,\n",
       " 85,\n",
       " 89,\n",
       " 93,\n",
       " 97,\n",
       " 101,\n",
       " 105,\n",
       " 109,\n",
       " 113,\n",
       " 117,\n",
       " 121,\n",
       " 125,\n",
       " 129,\n",
       " 133,\n",
       " 137,\n",
       " 141,\n",
       " 145,\n",
       " 149,\n",
       " 153,\n",
       " 157,\n",
       " 161,\n",
       " 165,\n",
       " 169,\n",
       " 173,\n",
       " 177,\n",
       " 181,\n",
       " 185,\n",
       " 189,\n",
       " 193,\n",
       " 197,\n",
       " 100]"
      ]
     },
     "execution_count": 7,
     "metadata": {},
     "output_type": "execute_result"
    }
   ],
   "source": [
    "lista = list(range(1, 100 + 1, 2))\n",
    "atsil = list(range(0, 100 + 1, 2)) #'atsil' == 'lista' ao contrário\n",
    "def somar_listas(a, b):\n",
    "    soma = []\n",
    "    if len(a) >= len(b): x, y = a, b #decisão pela maior lista a fim de evitar o erro 'index out of range'\n",
    "    else: x, y = b, a\n",
    "    for i in range(0, len(x)):\n",
    "        try: soma.append(x[i] + y[i])\n",
    "        except: soma.append(x[i] + 0) #quando uma lista for mais curta que a outra, o algoritmo somará 0\n",
    "    return soma\n",
    "somar_listas(lista, atsil)"
   ]
  },
  {
   "cell_type": "markdown",
   "id": "e4da1679-9692-4255-ade1-e4319966665d",
   "metadata": {},
   "source": [
    "4. Crie um dicionário cujas chaves são os meses do ano e os valores são a \n",
    "duração (em dias) de cada mês."
   ]
  },
  {
   "cell_type": "code",
   "execution_count": 8,
   "id": "067bf4b6-8626-46c4-a9b4-aceea4fb3a0b",
   "metadata": {},
   "outputs": [],
   "source": [
    "meses = {\n",
    "    'janeiro':31,\n",
    "    'fevereiro':28,\n",
    "    'marco':31,\n",
    "    'abril':30,\n",
    "    'maio':31,\n",
    "    'junho':30,\n",
    "    'julho':31,\n",
    "    'agosto':31,\n",
    "    'setembro':30,\n",
    "    'outubro':31,\n",
    "    'novembro':30,\n",
    "    'dezembro':31\n",
    "}"
   ]
  },
  {
   "cell_type": "markdown",
   "id": "a69beb6f-9d71-475e-ad73-9e464c0e12e6",
   "metadata": {},
   "source": [
    "5. Imprima as chaves seguidas dos seus valores para dicionário criado no \n",
    "exercício anterior.  \n",
    "Exemplo:  \n",
    "> Janeiro - 31  \n",
    "> Fevereiro - 28  \n",
    "> Março - 31  \n",
    "> Etc..."
   ]
  },
  {
   "cell_type": "code",
   "execution_count": 9,
   "id": "935b9927-b485-41f9-9c11-8b82c3eb02ff",
   "metadata": {},
   "outputs": [
    {
     "name": "stdout",
     "output_type": "stream",
     "text": [
      "O mês de janeiro tem 31 dias\n",
      "O mês de fevereiro tem 28 dias\n",
      "O mês de marco tem 31 dias\n",
      "O mês de abril tem 30 dias\n",
      "O mês de maio tem 31 dias\n",
      "O mês de junho tem 30 dias\n",
      "O mês de julho tem 31 dias\n",
      "O mês de agosto tem 31 dias\n",
      "O mês de setembro tem 30 dias\n",
      "O mês de outubro tem 31 dias\n",
      "O mês de novembro tem 30 dias\n",
      "O mês de dezembro tem 31 dias\n"
     ]
    }
   ],
   "source": [
    "for item in meses.keys():\n",
    "    print(f'O mês de {item} tem {meses[item]} dias')"
   ]
  },
  {
   "cell_type": "markdown",
   "id": "eb146682-cb6b-469c-9e1c-f92b5971c2c2",
   "metadata": {
    "tags": []
   },
   "source": [
    "## ***MODULO III***"
   ]
  },
  {
   "cell_type": "markdown",
   "id": "6f72865b-84ac-4775-b67f-fb6489fe13b9",
   "metadata": {},
   "source": [
    "Importação das bibliotecas necessárias aos exercícios do modulo  \n",
    "\n",
    "A biblioteca 'csv' lida com a confecção e leitura de arquivos .csv  \n",
    "A biblioteca 'requests' lida com os protocolos http necessários para conexão das APIs"
   ]
  },
  {
   "cell_type": "code",
   "execution_count": 10,
   "id": "38e8e578-6de9-47a8-a899-d133c6ef7aa9",
   "metadata": {},
   "outputs": [
    {
     "name": "stderr",
     "output_type": "stream",
     "text": [
      "C:\\Users\\andrezinho\\AppData\\Local\\Programs\\Python\\Python310\\lib\\site-packages\\requests\\__init__.py:109: RequestsDependencyWarning: urllib3 (1.26.11) or chardet (5.0.0)/charset_normalizer (2.0.12) doesn't match a supported version!\n",
      "  warnings.warn(\n"
     ]
    }
   ],
   "source": [
    "import csv\n",
    "import requests as r"
   ]
  },
  {
   "cell_type": "markdown",
   "id": "48d85b65-3be2-47cf-b28d-1f3e6fb0be73",
   "metadata": {},
   "source": [
    "Esse será o arquivo utilizado em exercícios de escrita e leitura de arquivos .csv"
   ]
  },
  {
   "cell_type": "code",
   "execution_count": 11,
   "id": "c812d574-6c43-4080-8028-73ae03036198",
   "metadata": {},
   "outputs": [],
   "source": [
    "arquivo = 'alunos.csv'"
   ]
  },
  {
   "cell_type": "code",
   "execution_count": 12,
   "id": "ee19bcf8-ece5-4c1c-baa8-27a790b8a8ac",
   "metadata": {},
   "outputs": [],
   "source": [
    "def arq_func(funcao, caminho = arquivo, processo = 'r', **kwargs):\n",
    "    '''\n",
    "    Função para facilitar o uso de arquivos e sua integração com outras funções.\n",
    "    A função abre o arquivo e executa uma função sobre o mesmo; em seguida o arquivo é fechado.\n",
    "    \n",
    "    Parâmetros;\n",
    "        caminho : str no formato path\n",
    "            Caminho para que o programa encontre o arquivo.\n",
    "        processo : str in [python open mode arguments]\n",
    "            Se refere ao modo da função 'open', nativa do python, para lidar com o arquivo referenciado na função 'arq_func'\n",
    "        funcao : callable\n",
    "            Função a qual deve ser submetido o arquivo presente no caminho.\n",
    "        \n",
    "        **kwargs : Argumentos que serão utilizados pela função aninhada a 'arq_func'\n",
    "        \n",
    "    '''\n",
    "    with open(caminho, processo, encoding='utf-8', newline='') as file:\n",
    "        funcao(file, **kwargs)\n",
    "    print('Executado com sucesso')"
   ]
  },
  {
   "cell_type": "markdown",
   "id": "18d8d21e-5e56-4f30-9b85-3ef13634a43d",
   "metadata": {},
   "source": [
    "1 - Neste exercício você deve criar um programa que abra o arquivo \n",
    "\"alunos.csv\" e imprima o conteúdo do arquivo linha a linha."
   ]
  },
  {
   "cell_type": "code",
   "execution_count": 13,
   "id": "da43cd0e-304b-412b-b12b-55ccdb4d98f4",
   "metadata": {},
   "outputs": [
    {
     "name": "stdout",
     "output_type": "stream",
     "text": [
      "['RA', 'Nome', 'Frequencia', 'Prova_1', 'Prova_2', 'Prova_3', 'Prova_4']\n",
      "['110201', 'Antonio Carlos', '20', '6.5', '8.5', '7', '6']\n",
      "['110212', 'Ana Beatriz', '20', '7', '7', '7', '8']\n",
      "['110218', 'Carlos Vernes', '17', '7', '7', '7', '7']\n",
      "['110307', 'Francisco Cunha', '20', '9', '8.5', '8.5', '10']\n",
      "['110275', 'Sandra Rosa', '15', '6.5', '7.5', '7', '7']\n",
      "['110281', 'Juliana Arruda', '18', '7.5', '7', '7.5', '8']\n",
      "['110301', 'Joao Galo', '20', '5', '6.5', '7', '5']\n",
      "['110263', 'José Valente', '20', '10', '10', '10', '10']\n",
      "['110271', 'Maria Ferreira', '19', '9.5', '8', '7', '10']\n",
      "['110236', 'Adriana Tavares', '20', '8', '8', '8', '8']\n",
      "Executado com sucesso\n"
     ]
    }
   ],
   "source": [
    "arq_func(lambda file: [print(l) for l in csv.reader(file)])"
   ]
  },
  {
   "cell_type": "markdown",
   "id": "63fae560-b231-4da7-947f-34d53c3a6d8a",
   "metadata": {},
   "source": [
    "2 - Para o segundo exercício, você deve criar um programa que realize uma \n",
    "cópia do arquivo \"alunos.csv\". Essa cópia deve ser um arquivo chamado \n",
    "\"alunos_copia.csv\"."
   ]
  },
  {
   "cell_type": "code",
   "execution_count": 14,
   "id": "ade2c03a-3fe8-4a9c-8357-1104b87ca085",
   "metadata": {},
   "outputs": [
    {
     "name": "stdout",
     "output_type": "stream",
     "text": [
      "Copiado com sucesso\n",
      "Executado com sucesso\n"
     ]
    }
   ],
   "source": [
    "def copia(file):\n",
    "    nome = file.name.split('.')[0]\n",
    "    with open(f'{nome}_copia.csv', 'w', encoding = 'utf-8', newline = '') as copia:\n",
    "        for l in csv.reader(file):\n",
    "            csv.writer(copia).writerow(l)\n",
    "    print('Copiado com sucesso')\n",
    "arq_func(copia)"
   ]
  },
  {
   "cell_type": "markdown",
   "id": "c992aae9-2f14-45f0-aa1e-334a7109540f",
   "metadata": {},
   "source": [
    "3 - Neste exercício você deve criar um novo arquivo chamado \n",
    "\"alunos_media.csv\". Esse novo arquivo é uma cópia de \"alunos.csv\" porém \n",
    "com uma coluna a mais chamada \"Média\" que vai abrigar os valores das \n",
    "médias das provas de cada aluno da lista."
   ]
  },
  {
   "cell_type": "code",
   "execution_count": 15,
   "id": "e063ea3c-de10-4c79-80fd-de9e6ec7455a",
   "metadata": {},
   "outputs": [
    {
     "name": "stdout",
     "output_type": "stream",
     "text": [
      "Média adicionada com sucesso\n",
      "Executado com sucesso\n"
     ]
    }
   ],
   "source": [
    "def media(file):\n",
    "    nome = file.name.split('.')[0]\n",
    "    with open(f'{nome}_media.csv', 'w', encoding = 'utf-8', newline = '') as media:\n",
    "        for l in csv.reader(file):\n",
    "            a = []\n",
    "            try:\n",
    "                for n in l[3:]:\n",
    "                    a.append(float(n))\n",
    "                l.append(round(sum(a)/4, 2))\n",
    "            except: l.append('Media')\n",
    "            csv.writer(media).writerow(l)\n",
    "    print('Média adicionada com sucesso')\n",
    "arq_func(media)"
   ]
  },
  {
   "cell_type": "markdown",
   "id": "20e2c3e1-45e5-4ebe-bef2-0f8e7e23c810",
   "metadata": {},
   "source": [
    "4 - Você conhece Star Wars? Se trata, obviamente, da famosa saga espacial \n",
    "criada por George Lucas em 1977 e que deu origem a símbolos do cinema e \n",
    "da cultura pop com o imponente vilão Darth Vader ou o simpático robô \n",
    "R2-D2. A ideia desse exercício é justamente extrair informações do \n",
    "personagem Darth Vader através de uma API de Star Wars chamada SWAPI.  \n",
    "\n",
    "Utilize a URL \"https://swapi.dev/api/people/4/\" para fazer a requisição dos \n",
    "dados de Darth Vader e extraia as informações \"name\" (nome), \"height\" \n",
    "(altura), \"mass\" (massa) e \"birth_year\" (ano de nascimento) e imprima cada \n",
    "dado em uma linha.  \n",
    "\n",
    "Dica: caso não se lembre de como fazer isso, assista novamente a aula sobre \n",
    "API porque o exemplo da aula pode te ajudar."
   ]
  },
  {
   "cell_type": "code",
   "execution_count": 16,
   "id": "6fba0999-9028-4d2f-b4d1-204fc986ca40",
   "metadata": {},
   "outputs": [
    {
     "name": "stdout",
     "output_type": "stream",
     "text": [
      "His name is Darth Vader\n",
      "His height is 202\n",
      "His mass is 136\n",
      "His birth_year is 41.9BBY\n"
     ]
    }
   ],
   "source": [
    "url = 'https://swapi.dev/api/people/4'\n",
    "resp = r.get(url)\n",
    "for dado in ['name', 'height', 'mass', 'birth_year']:\n",
    "    print(f'His {dado} is {resp.json()[dado]}')"
   ]
  },
  {
   "cell_type": "markdown",
   "id": "8b470623-948a-49e5-87be-71c5864bc84c",
   "metadata": {},
   "source": [
    "5 - Em 2019 surgiram os primeiros casos de COVID-19 que se alastrou pelo \n",
    "mundo resultando numa pandemia. A proposta deste exercício é utilizar \n",
    "uma API com informações de COVID-19 do mundo todo desde o início da \n",
    "proliferação e descobrir que dia o Brasil confirmou o primeiro caso de \n",
    "Coronavírus.  \n",
    "\n",
    "Para fazer isso, utilize a URL \"https://api.covid19api.com/country/brazil\" em seu \n",
    "código. Ela retorna uma lista de dicionários, onde cada dicionário traz \n",
    "informações através das chaves:  \n",
    "\n",
    "    \"ID\", \"Country\", \"CountryCode\", \"Province\", \"City\", \n",
    "    \"CityCode\",\"Lat\",\"Lon\",\"Confirmed\",\"Deaths\", \"Recovered\", \"Active\" e \"Date\"  \n",
    "    \n",
    "Utilize essas informações e retorne a data em que o Brasil confirmou o \n",
    "primeiro caso de COVID."
   ]
  },
  {
   "cell_type": "code",
   "execution_count": 17,
   "id": "9b1dafd1-fec5-47f4-b0b1-6c5b0b13d2a4",
   "metadata": {},
   "outputs": [
    {
     "name": "stdout",
     "output_type": "stream",
     "text": [
      "O primeiro caso de coronavirus no Brasil foi em 2020-01-22\n"
     ]
    }
   ],
   "source": [
    "url = 'https://api.covid19api.com/country/brazil'\n",
    "resp = r.get(url)\n",
    "print(f'O primeiro caso de coronavirus no Brasil foi em {resp.json()[0][\"Date\"].split(\"T\")[0]}')"
   ]
  },
  {
   "cell_type": "code",
   "execution_count": null,
   "id": "205918e7-54fd-42cd-8ed6-67c968a67f04",
   "metadata": {},
   "outputs": [],
   "source": []
  }
 ],
 "metadata": {
  "kernelspec": {
   "display_name": "Python 3 (ipykernel)",
   "language": "python",
   "name": "python3"
  },
  "language_info": {
   "codemirror_mode": {
    "name": "ipython",
    "version": 3
   },
   "file_extension": ".py",
   "mimetype": "text/x-python",
   "name": "python",
   "nbconvert_exporter": "python",
   "pygments_lexer": "ipython3",
   "version": "3.10.0"
  }
 },
 "nbformat": 4,
 "nbformat_minor": 5
}
